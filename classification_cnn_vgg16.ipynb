{
  "cells": [
    {
      "cell_type": "code",
      "execution_count": 1,
      "metadata": {
        "id": "yxfW96s3QfaY"
      },
      "outputs": [],
      "source": [
        "import warnings\n",
        "warnings.filterwarnings(\"ignore\", category = FutureWarning)\n",
        "\n",
        "import os\n",
        "import keras\n",
        "import h5py\n",
        "import librosa\n",
        "import itertools\n",
        "import numpy as np\n",
        "import matplotlib.pyplot as plt\n",
        "from collections import OrderedDict\n",
        "\n",
        "from tensorflow.keras.utils import to_categorical\n",
        "from sklearn.model_selection import train_test_split\n",
        "from sklearn.metrics import confusion_matrix\n",
        "\n",
        "from keras.models import Sequential\n",
        "from keras.layers import Dense\n",
        "from keras.layers import Activation\n",
        "from keras.layers import Flatten\n",
        "from keras.layers import Input\n",
        "from keras.layers import Dropout\n",
        "from keras.models import Model\n",
        "from tensorflow.keras.optimizers import Adam\n",
        "from keras.applications.vgg16 import VGG16\n",
        "from tensorflow.keras.callbacks import EarlyStopping"
      ]
    },
    {
      "cell_type": "markdown",
      "metadata": {
        "id": "LofJlezKQfai"
      },
      "source": [
        "# Read the data\n",
        "\n",
        "> Helper functions to assist the process to read songs, split then and return an array of spectrograms/melspectrograms"
      ]
    },
    {
      "cell_type": "code",
      "execution_count": 2,
      "metadata": {
        "id": "i2IeHtfrQfaj"
      },
      "outputs": [],
      "source": [
        "\"\"\"\n",
        "@description: Method to split a song into multiple songs using overlapping windows\n",
        "\"\"\"\n",
        "def splitsongs(X, y, window = 0.1, overlap = 0.5):\n",
        "    # Empty lists to hold our results\n",
        "    temp_X = []\n",
        "    temp_y = []\n",
        "\n",
        "    # Get the input song array size\n",
        "    xshape = X.shape[0]\n",
        "    chunk = int(xshape*window)\n",
        "    offset = int(chunk*(1.-overlap))\n",
        "    \n",
        "    # Split the song and create new ones on windows\n",
        "    spsong = [X[i:i+chunk] for i in range(0, xshape - chunk + offset, offset)]\n",
        "    for s in spsong:\n",
        "        temp_X.append(s)\n",
        "        temp_y.append(y)\n",
        "\n",
        "    return np.array(temp_X), np.array(temp_y)"
      ]
    },
    {
      "cell_type": "code",
      "execution_count": 3,
      "metadata": {
        "id": "dKxqynk7Qfan"
      },
      "outputs": [],
      "source": [
        "\"\"\"\n",
        "@description: Method to convert a list of songs to a np array of melspectrograms\n",
        "\"\"\"\n",
        "def to_melspectrogram(songs, n_fft = 1024, hop_length = 512):\n",
        "    # Transformation function\n",
        "    melspec = lambda x: librosa.feature.melspectrogram(x, n_fft = n_fft,\n",
        "        hop_length = hop_length)[:,:,np.newaxis]\n",
        "\n",
        "    # map transformation of input songs to melspectrogram using log-scale\n",
        "    tsongs = map(melspec, songs)\n",
        "    return np.array(list(tsongs))"
      ]
    },
    {
      "cell_type": "code",
      "execution_count": 4,
      "metadata": {
        "id": "FqWlFiPSQfaq"
      },
      "outputs": [],
      "source": [
        "def read_data(src_dir, genres, song_samples, spec_format, debug = True):    \n",
        "    # Empty array of dicts with the processed features from all files\n",
        "    arr_specs = []\n",
        "    arr_genres = []\n",
        "\n",
        "    # Read files from the folders\n",
        "    for x,_ in genres.items():\n",
        "        folder = src_dir + x\n",
        "        \n",
        "        for root, subdirs, files in os.walk(folder):\n",
        "            for file in files:\n",
        "                # Read the audio file\n",
        "                file_name = folder + \"/\" + file\n",
        "                signal, sr = librosa.load(file_name)\n",
        "                if len(signal) < song_samples:\n",
        "                    print('Error in {}\\nNum of samples ( >= {}): {}'.format(file_name, song_samples, len(signal)))\n",
        "                signal = signal[:song_samples]\n",
        "                \n",
        "                # Debug process\n",
        "                if debug:\n",
        "                    print(\"Reading file: {}\".format(file_name))\n",
        "                \n",
        "                # Convert to dataset of spectograms/melspectograms\n",
        "                signals, y = splitsongs(signal, genres[x])\n",
        "                \n",
        "                # Convert to \"spec\" representation\n",
        "                specs = spec_format(signals)\n",
        "                \n",
        "                # Save files\n",
        "                arr_genres.extend(y)\n",
        "                arr_specs.extend(specs)\n",
        "                \n",
        "                \n",
        "    return np.array(arr_specs), np.array(arr_genres)"
      ]
    },
    {
      "cell_type": "code",
      "execution_count": 5,
      "metadata": {
        "id": "vjKaRSYRQfau"
      },
      "outputs": [],
      "source": [
        "# Parameters\n",
        "gtzan_dir = 'A:/TechieYan projects/AI/Identifying_Music_Genre/gtzan_2/'\n",
        "song_samples = 660000\n",
        "genres = {'metal': 0, 'disco': 1, 'classical': 2, 'hiphop': 3, 'jazz': 4, \n",
        "          'country': 5, 'pop': 6, 'blues': 7, 'reggae': 8, 'rock': 9}"
      ]
    },
    {
      "cell_type": "code",
      "execution_count": 6,
      "metadata": {
        "colab": {
          "base_uri": "https://localhost:8080/"
        },
        "id": "2AmziFJZQfay",
        "outputId": "c90ceef6-6afa-4ff0-f165-4416d584747a"
      },
      "outputs": [
        {
          "name": "stdout",
          "output_type": "stream",
          "text": [
            "Reading file: A:/TechieYan projects/AI/Identifying_Music_Genre/gtzan_2/metal/metal.00000.au\n",
            "Reading file: A:/TechieYan projects/AI/Identifying_Music_Genre/gtzan_2/metal/metal.00001.au\n",
            "Reading file: A:/TechieYan projects/AI/Identifying_Music_Genre/gtzan_2/metal/metal.00002.au\n",
            "Reading file: A:/TechieYan projects/AI/Identifying_Music_Genre/gtzan_2/metal/metal.00003.au\n",
            "Reading file: A:/TechieYan projects/AI/Identifying_Music_Genre/gtzan_2/metal/metal.00004.au\n",
            "Reading file: A:/TechieYan projects/AI/Identifying_Music_Genre/gtzan_2/metal/metal.00005.au\n",
            "Reading file: A:/TechieYan projects/AI/Identifying_Music_Genre/gtzan_2/metal/metal.00006.au\n",
            "Reading file: A:/TechieYan projects/AI/Identifying_Music_Genre/gtzan_2/metal/metal.00007.au\n",
            "Reading file: A:/TechieYan projects/AI/Identifying_Music_Genre/gtzan_2/metal/metal.00008.au\n",
            "Reading file: A:/TechieYan projects/AI/Identifying_Music_Genre/gtzan_2/metal/metal.00009.au\n",
            "Reading file: A:/TechieYan projects/AI/Identifying_Music_Genre/gtzan_2/metal/metal.00010.au\n",
            "Reading file: A:/TechieYan projects/AI/Identifying_Music_Genre/gtzan_2/metal/metal.00011.au\n",
            "Reading file: A:/TechieYan projects/AI/Identifying_Music_Genre/gtzan_2/metal/metal.00012.au\n",
            "Reading file: A:/TechieYan projects/AI/Identifying_Music_Genre/gtzan_2/metal/metal.00013.au\n",
            "Reading file: A:/TechieYan projects/AI/Identifying_Music_Genre/gtzan_2/metal/metal.00014.au\n",
            "Reading file: A:/TechieYan projects/AI/Identifying_Music_Genre/gtzan_2/metal/metal.00015.au\n",
            "Reading file: A:/TechieYan projects/AI/Identifying_Music_Genre/gtzan_2/metal/metal.00016.au\n",
            "Reading file: A:/TechieYan projects/AI/Identifying_Music_Genre/gtzan_2/metal/metal.00017.au\n",
            "Reading file: A:/TechieYan projects/AI/Identifying_Music_Genre/gtzan_2/metal/metal.00018.au\n",
            "Reading file: A:/TechieYan projects/AI/Identifying_Music_Genre/gtzan_2/metal/metal.00019.au\n",
            "Reading file: A:/TechieYan projects/AI/Identifying_Music_Genre/gtzan_2/metal/metal.00020.au\n",
            "Reading file: A:/TechieYan projects/AI/Identifying_Music_Genre/gtzan_2/metal/metal.00021.au\n",
            "Reading file: A:/TechieYan projects/AI/Identifying_Music_Genre/gtzan_2/metal/metal.00022.au\n",
            "Reading file: A:/TechieYan projects/AI/Identifying_Music_Genre/gtzan_2/metal/metal.00023.au\n",
            "Reading file: A:/TechieYan projects/AI/Identifying_Music_Genre/gtzan_2/metal/metal.00024.au\n",
            "Reading file: A:/TechieYan projects/AI/Identifying_Music_Genre/gtzan_2/metal/metal.00025.au\n",
            "Reading file: A:/TechieYan projects/AI/Identifying_Music_Genre/gtzan_2/metal/metal.00026.au\n",
            "Reading file: A:/TechieYan projects/AI/Identifying_Music_Genre/gtzan_2/metal/metal.00027.au\n",
            "Reading file: A:/TechieYan projects/AI/Identifying_Music_Genre/gtzan_2/metal/metal.00028.au\n",
            "Reading file: A:/TechieYan projects/AI/Identifying_Music_Genre/gtzan_2/metal/metal.00029.au\n",
            "Reading file: A:/TechieYan projects/AI/Identifying_Music_Genre/gtzan_2/metal/metal.00030.au\n",
            "Reading file: A:/TechieYan projects/AI/Identifying_Music_Genre/gtzan_2/metal/metal.00031.au\n",
            "Reading file: A:/TechieYan projects/AI/Identifying_Music_Genre/gtzan_2/metal/metal.00032.au\n",
            "Reading file: A:/TechieYan projects/AI/Identifying_Music_Genre/gtzan_2/metal/metal.00033.au\n",
            "Reading file: A:/TechieYan projects/AI/Identifying_Music_Genre/gtzan_2/metal/metal.00034.au\n",
            "Reading file: A:/TechieYan projects/AI/Identifying_Music_Genre/gtzan_2/metal/metal.00035.au\n",
            "Reading file: A:/TechieYan projects/AI/Identifying_Music_Genre/gtzan_2/metal/metal.00036.au\n",
            "Reading file: A:/TechieYan projects/AI/Identifying_Music_Genre/gtzan_2/metal/metal.00037.au\n",
            "Reading file: A:/TechieYan projects/AI/Identifying_Music_Genre/gtzan_2/metal/metal.00038.au\n",
            "Reading file: A:/TechieYan projects/AI/Identifying_Music_Genre/gtzan_2/metal/metal.00039.au\n",
            "Reading file: A:/TechieYan projects/AI/Identifying_Music_Genre/gtzan_2/metal/metal.00040.au\n",
            "Reading file: A:/TechieYan projects/AI/Identifying_Music_Genre/gtzan_2/metal/metal.00041.au\n",
            "Reading file: A:/TechieYan projects/AI/Identifying_Music_Genre/gtzan_2/metal/metal.00042.au\n",
            "Reading file: A:/TechieYan projects/AI/Identifying_Music_Genre/gtzan_2/metal/metal.00043.au\n",
            "Reading file: A:/TechieYan projects/AI/Identifying_Music_Genre/gtzan_2/metal/metal.00044.au\n",
            "Reading file: A:/TechieYan projects/AI/Identifying_Music_Genre/gtzan_2/metal/metal.00045.au\n",
            "Reading file: A:/TechieYan projects/AI/Identifying_Music_Genre/gtzan_2/metal/metal.00046.au\n",
            "Reading file: A:/TechieYan projects/AI/Identifying_Music_Genre/gtzan_2/metal/metal.00047.au\n",
            "Reading file: A:/TechieYan projects/AI/Identifying_Music_Genre/gtzan_2/metal/metal.00048.au\n",
            "Reading file: A:/TechieYan projects/AI/Identifying_Music_Genre/gtzan_2/metal/metal.00049.au\n",
            "Reading file: A:/TechieYan projects/AI/Identifying_Music_Genre/gtzan_2/metal/metal.00050.au\n",
            "Reading file: A:/TechieYan projects/AI/Identifying_Music_Genre/gtzan_2/disco/disco.00000.au\n",
            "Reading file: A:/TechieYan projects/AI/Identifying_Music_Genre/gtzan_2/disco/disco.00001.au\n",
            "Reading file: A:/TechieYan projects/AI/Identifying_Music_Genre/gtzan_2/disco/disco.00002.au\n",
            "Reading file: A:/TechieYan projects/AI/Identifying_Music_Genre/gtzan_2/disco/disco.00003.au\n",
            "Reading file: A:/TechieYan projects/AI/Identifying_Music_Genre/gtzan_2/disco/disco.00004.au\n",
            "Reading file: A:/TechieYan projects/AI/Identifying_Music_Genre/gtzan_2/disco/disco.00005.au\n",
            "Reading file: A:/TechieYan projects/AI/Identifying_Music_Genre/gtzan_2/disco/disco.00006.au\n",
            "Reading file: A:/TechieYan projects/AI/Identifying_Music_Genre/gtzan_2/disco/disco.00007.au\n",
            "Reading file: A:/TechieYan projects/AI/Identifying_Music_Genre/gtzan_2/disco/disco.00008.au\n",
            "Reading file: A:/TechieYan projects/AI/Identifying_Music_Genre/gtzan_2/disco/disco.00009.au\n",
            "Reading file: A:/TechieYan projects/AI/Identifying_Music_Genre/gtzan_2/disco/disco.00010.au\n",
            "Reading file: A:/TechieYan projects/AI/Identifying_Music_Genre/gtzan_2/disco/disco.00011.au\n",
            "Reading file: A:/TechieYan projects/AI/Identifying_Music_Genre/gtzan_2/disco/disco.00012.au\n",
            "Reading file: A:/TechieYan projects/AI/Identifying_Music_Genre/gtzan_2/disco/disco.00013.au\n",
            "Reading file: A:/TechieYan projects/AI/Identifying_Music_Genre/gtzan_2/disco/disco.00014.au\n",
            "Reading file: A:/TechieYan projects/AI/Identifying_Music_Genre/gtzan_2/disco/disco.00015.au\n",
            "Reading file: A:/TechieYan projects/AI/Identifying_Music_Genre/gtzan_2/disco/disco.00016.au\n",
            "Reading file: A:/TechieYan projects/AI/Identifying_Music_Genre/gtzan_2/disco/disco.00017.au\n",
            "Reading file: A:/TechieYan projects/AI/Identifying_Music_Genre/gtzan_2/disco/disco.00018.au\n",
            "Reading file: A:/TechieYan projects/AI/Identifying_Music_Genre/gtzan_2/disco/disco.00019.au\n",
            "Reading file: A:/TechieYan projects/AI/Identifying_Music_Genre/gtzan_2/disco/disco.00020.au\n",
            "Reading file: A:/TechieYan projects/AI/Identifying_Music_Genre/gtzan_2/disco/disco.00021.au\n",
            "Reading file: A:/TechieYan projects/AI/Identifying_Music_Genre/gtzan_2/disco/disco.00022.au\n",
            "Reading file: A:/TechieYan projects/AI/Identifying_Music_Genre/gtzan_2/disco/disco.00023.au\n",
            "Reading file: A:/TechieYan projects/AI/Identifying_Music_Genre/gtzan_2/disco/disco.00024.au\n",
            "Reading file: A:/TechieYan projects/AI/Identifying_Music_Genre/gtzan_2/disco/disco.00025.au\n",
            "Reading file: A:/TechieYan projects/AI/Identifying_Music_Genre/gtzan_2/disco/disco.00026.au\n",
            "Reading file: A:/TechieYan projects/AI/Identifying_Music_Genre/gtzan_2/disco/disco.00027.au\n",
            "Reading file: A:/TechieYan projects/AI/Identifying_Music_Genre/gtzan_2/disco/disco.00028.au\n",
            "Reading file: A:/TechieYan projects/AI/Identifying_Music_Genre/gtzan_2/disco/disco.00029.au\n",
            "Reading file: A:/TechieYan projects/AI/Identifying_Music_Genre/gtzan_2/disco/disco.00030.au\n",
            "Reading file: A:/TechieYan projects/AI/Identifying_Music_Genre/gtzan_2/disco/disco.00031.au\n",
            "Reading file: A:/TechieYan projects/AI/Identifying_Music_Genre/gtzan_2/disco/disco.00032.au\n",
            "Reading file: A:/TechieYan projects/AI/Identifying_Music_Genre/gtzan_2/disco/disco.00033.au\n",
            "Reading file: A:/TechieYan projects/AI/Identifying_Music_Genre/gtzan_2/disco/disco.00034.au\n",
            "Reading file: A:/TechieYan projects/AI/Identifying_Music_Genre/gtzan_2/disco/disco.00035.au\n",
            "Reading file: A:/TechieYan projects/AI/Identifying_Music_Genre/gtzan_2/disco/disco.00036.au\n",
            "Reading file: A:/TechieYan projects/AI/Identifying_Music_Genre/gtzan_2/disco/disco.00037.au\n",
            "Reading file: A:/TechieYan projects/AI/Identifying_Music_Genre/gtzan_2/disco/disco.00038.au\n",
            "Reading file: A:/TechieYan projects/AI/Identifying_Music_Genre/gtzan_2/disco/disco.00039.au\n",
            "Reading file: A:/TechieYan projects/AI/Identifying_Music_Genre/gtzan_2/disco/disco.00040.au\n",
            "Reading file: A:/TechieYan projects/AI/Identifying_Music_Genre/gtzan_2/disco/disco.00041.au\n",
            "Reading file: A:/TechieYan projects/AI/Identifying_Music_Genre/gtzan_2/disco/disco.00042.au\n",
            "Reading file: A:/TechieYan projects/AI/Identifying_Music_Genre/gtzan_2/disco/disco.00043.au\n",
            "Reading file: A:/TechieYan projects/AI/Identifying_Music_Genre/gtzan_2/disco/disco.00044.au\n",
            "Reading file: A:/TechieYan projects/AI/Identifying_Music_Genre/gtzan_2/disco/disco.00045.au\n",
            "Reading file: A:/TechieYan projects/AI/Identifying_Music_Genre/gtzan_2/disco/disco.00046.au\n",
            "Reading file: A:/TechieYan projects/AI/Identifying_Music_Genre/gtzan_2/disco/disco.00047.au\n",
            "Reading file: A:/TechieYan projects/AI/Identifying_Music_Genre/gtzan_2/disco/disco.00048.au\n",
            "Reading file: A:/TechieYan projects/AI/Identifying_Music_Genre/gtzan_2/disco/disco.00049.au\n",
            "Reading file: A:/TechieYan projects/AI/Identifying_Music_Genre/gtzan_2/disco/disco.00050.au\n",
            "Reading file: A:/TechieYan projects/AI/Identifying_Music_Genre/gtzan_2/classical/classical.00000.au\n",
            "Reading file: A:/TechieYan projects/AI/Identifying_Music_Genre/gtzan_2/classical/classical.00001.au\n",
            "Reading file: A:/TechieYan projects/AI/Identifying_Music_Genre/gtzan_2/classical/classical.00002.au\n",
            "Reading file: A:/TechieYan projects/AI/Identifying_Music_Genre/gtzan_2/classical/classical.00003.au\n",
            "Reading file: A:/TechieYan projects/AI/Identifying_Music_Genre/gtzan_2/classical/classical.00004.au\n",
            "Reading file: A:/TechieYan projects/AI/Identifying_Music_Genre/gtzan_2/classical/classical.00005.au\n",
            "Reading file: A:/TechieYan projects/AI/Identifying_Music_Genre/gtzan_2/classical/classical.00006.au\n",
            "Reading file: A:/TechieYan projects/AI/Identifying_Music_Genre/gtzan_2/classical/classical.00007.au\n",
            "Reading file: A:/TechieYan projects/AI/Identifying_Music_Genre/gtzan_2/classical/classical.00008.au\n",
            "Reading file: A:/TechieYan projects/AI/Identifying_Music_Genre/gtzan_2/classical/classical.00009.au\n",
            "Reading file: A:/TechieYan projects/AI/Identifying_Music_Genre/gtzan_2/classical/classical.00010.au\n",
            "Reading file: A:/TechieYan projects/AI/Identifying_Music_Genre/gtzan_2/classical/classical.00011.au\n",
            "Reading file: A:/TechieYan projects/AI/Identifying_Music_Genre/gtzan_2/classical/classical.00012.au\n",
            "Reading file: A:/TechieYan projects/AI/Identifying_Music_Genre/gtzan_2/classical/classical.00013.au\n",
            "Reading file: A:/TechieYan projects/AI/Identifying_Music_Genre/gtzan_2/classical/classical.00014.au\n",
            "Reading file: A:/TechieYan projects/AI/Identifying_Music_Genre/gtzan_2/classical/classical.00015.au\n",
            "Reading file: A:/TechieYan projects/AI/Identifying_Music_Genre/gtzan_2/classical/classical.00016.au\n",
            "Reading file: A:/TechieYan projects/AI/Identifying_Music_Genre/gtzan_2/classical/classical.00017.au\n",
            "Reading file: A:/TechieYan projects/AI/Identifying_Music_Genre/gtzan_2/classical/classical.00018.au\n",
            "Reading file: A:/TechieYan projects/AI/Identifying_Music_Genre/gtzan_2/classical/classical.00019.au\n",
            "Reading file: A:/TechieYan projects/AI/Identifying_Music_Genre/gtzan_2/classical/classical.00020.au\n",
            "Reading file: A:/TechieYan projects/AI/Identifying_Music_Genre/gtzan_2/classical/classical.00021.au\n",
            "Reading file: A:/TechieYan projects/AI/Identifying_Music_Genre/gtzan_2/classical/classical.00022.au\n",
            "Reading file: A:/TechieYan projects/AI/Identifying_Music_Genre/gtzan_2/classical/classical.00023.au\n",
            "Reading file: A:/TechieYan projects/AI/Identifying_Music_Genre/gtzan_2/classical/classical.00024.au\n",
            "Reading file: A:/TechieYan projects/AI/Identifying_Music_Genre/gtzan_2/classical/classical.00025.au\n",
            "Reading file: A:/TechieYan projects/AI/Identifying_Music_Genre/gtzan_2/classical/classical.00026.au\n",
            "Reading file: A:/TechieYan projects/AI/Identifying_Music_Genre/gtzan_2/classical/classical.00027.au\n",
            "Reading file: A:/TechieYan projects/AI/Identifying_Music_Genre/gtzan_2/classical/classical.00028.au\n",
            "Reading file: A:/TechieYan projects/AI/Identifying_Music_Genre/gtzan_2/classical/classical.00029.au\n",
            "Reading file: A:/TechieYan projects/AI/Identifying_Music_Genre/gtzan_2/classical/classical.00030.au\n",
            "Reading file: A:/TechieYan projects/AI/Identifying_Music_Genre/gtzan_2/classical/classical.00031.au\n",
            "Reading file: A:/TechieYan projects/AI/Identifying_Music_Genre/gtzan_2/classical/classical.00032.au\n",
            "Reading file: A:/TechieYan projects/AI/Identifying_Music_Genre/gtzan_2/classical/classical.00033.au\n",
            "Reading file: A:/TechieYan projects/AI/Identifying_Music_Genre/gtzan_2/classical/classical.00034.au\n",
            "Reading file: A:/TechieYan projects/AI/Identifying_Music_Genre/gtzan_2/classical/classical.00035.au\n",
            "Reading file: A:/TechieYan projects/AI/Identifying_Music_Genre/gtzan_2/classical/classical.00036.au\n",
            "Reading file: A:/TechieYan projects/AI/Identifying_Music_Genre/gtzan_2/classical/classical.00037.au\n",
            "Reading file: A:/TechieYan projects/AI/Identifying_Music_Genre/gtzan_2/classical/classical.00038.au\n",
            "Reading file: A:/TechieYan projects/AI/Identifying_Music_Genre/gtzan_2/classical/classical.00039.au\n",
            "Reading file: A:/TechieYan projects/AI/Identifying_Music_Genre/gtzan_2/classical/classical.00040.au\n",
            "Reading file: A:/TechieYan projects/AI/Identifying_Music_Genre/gtzan_2/classical/classical.00041.au\n",
            "Reading file: A:/TechieYan projects/AI/Identifying_Music_Genre/gtzan_2/classical/classical.00042.au\n",
            "Reading file: A:/TechieYan projects/AI/Identifying_Music_Genre/gtzan_2/classical/classical.00043.au\n",
            "Reading file: A:/TechieYan projects/AI/Identifying_Music_Genre/gtzan_2/classical/classical.00044.au\n",
            "Reading file: A:/TechieYan projects/AI/Identifying_Music_Genre/gtzan_2/classical/classical.00045.au\n",
            "Reading file: A:/TechieYan projects/AI/Identifying_Music_Genre/gtzan_2/classical/classical.00046.au\n",
            "Reading file: A:/TechieYan projects/AI/Identifying_Music_Genre/gtzan_2/classical/classical.00047.au\n",
            "Reading file: A:/TechieYan projects/AI/Identifying_Music_Genre/gtzan_2/classical/classical.00048.au\n",
            "Reading file: A:/TechieYan projects/AI/Identifying_Music_Genre/gtzan_2/classical/classical.00049.au\n",
            "Reading file: A:/TechieYan projects/AI/Identifying_Music_Genre/gtzan_2/classical/classical.00050.au\n",
            "Reading file: A:/TechieYan projects/AI/Identifying_Music_Genre/gtzan_2/hiphop/hiphop.00000.au\n",
            "Reading file: A:/TechieYan projects/AI/Identifying_Music_Genre/gtzan_2/hiphop/hiphop.00001.au\n",
            "Reading file: A:/TechieYan projects/AI/Identifying_Music_Genre/gtzan_2/hiphop/hiphop.00002.au\n",
            "Reading file: A:/TechieYan projects/AI/Identifying_Music_Genre/gtzan_2/hiphop/hiphop.00003.au\n",
            "Reading file: A:/TechieYan projects/AI/Identifying_Music_Genre/gtzan_2/hiphop/hiphop.00004.au\n",
            "Reading file: A:/TechieYan projects/AI/Identifying_Music_Genre/gtzan_2/hiphop/hiphop.00005.au\n",
            "Reading file: A:/TechieYan projects/AI/Identifying_Music_Genre/gtzan_2/hiphop/hiphop.00006.au\n",
            "Reading file: A:/TechieYan projects/AI/Identifying_Music_Genre/gtzan_2/hiphop/hiphop.00007.au\n",
            "Reading file: A:/TechieYan projects/AI/Identifying_Music_Genre/gtzan_2/hiphop/hiphop.00008.au\n",
            "Reading file: A:/TechieYan projects/AI/Identifying_Music_Genre/gtzan_2/hiphop/hiphop.00009.au\n",
            "Reading file: A:/TechieYan projects/AI/Identifying_Music_Genre/gtzan_2/hiphop/hiphop.00010.au\n",
            "Reading file: A:/TechieYan projects/AI/Identifying_Music_Genre/gtzan_2/hiphop/hiphop.00011.au\n",
            "Reading file: A:/TechieYan projects/AI/Identifying_Music_Genre/gtzan_2/hiphop/hiphop.00012.au\n",
            "Reading file: A:/TechieYan projects/AI/Identifying_Music_Genre/gtzan_2/hiphop/hiphop.00013.au\n",
            "Reading file: A:/TechieYan projects/AI/Identifying_Music_Genre/gtzan_2/hiphop/hiphop.00014.au\n",
            "Reading file: A:/TechieYan projects/AI/Identifying_Music_Genre/gtzan_2/hiphop/hiphop.00015.au\n",
            "Reading file: A:/TechieYan projects/AI/Identifying_Music_Genre/gtzan_2/hiphop/hiphop.00016.au\n",
            "Reading file: A:/TechieYan projects/AI/Identifying_Music_Genre/gtzan_2/hiphop/hiphop.00017.au\n",
            "Reading file: A:/TechieYan projects/AI/Identifying_Music_Genre/gtzan_2/hiphop/hiphop.00018.au\n",
            "Reading file: A:/TechieYan projects/AI/Identifying_Music_Genre/gtzan_2/hiphop/hiphop.00019.au\n",
            "Reading file: A:/TechieYan projects/AI/Identifying_Music_Genre/gtzan_2/hiphop/hiphop.00020.au\n",
            "Reading file: A:/TechieYan projects/AI/Identifying_Music_Genre/gtzan_2/hiphop/hiphop.00021.au\n",
            "Reading file: A:/TechieYan projects/AI/Identifying_Music_Genre/gtzan_2/hiphop/hiphop.00022.au\n",
            "Reading file: A:/TechieYan projects/AI/Identifying_Music_Genre/gtzan_2/hiphop/hiphop.00023.au\n",
            "Reading file: A:/TechieYan projects/AI/Identifying_Music_Genre/gtzan_2/hiphop/hiphop.00024.au\n",
            "Reading file: A:/TechieYan projects/AI/Identifying_Music_Genre/gtzan_2/hiphop/hiphop.00025.au\n",
            "Reading file: A:/TechieYan projects/AI/Identifying_Music_Genre/gtzan_2/hiphop/hiphop.00026.au\n",
            "Reading file: A:/TechieYan projects/AI/Identifying_Music_Genre/gtzan_2/hiphop/hiphop.00027.au\n",
            "Reading file: A:/TechieYan projects/AI/Identifying_Music_Genre/gtzan_2/hiphop/hiphop.00028.au\n",
            "Reading file: A:/TechieYan projects/AI/Identifying_Music_Genre/gtzan_2/hiphop/hiphop.00029.au\n",
            "Reading file: A:/TechieYan projects/AI/Identifying_Music_Genre/gtzan_2/hiphop/hiphop.00030.au\n",
            "Reading file: A:/TechieYan projects/AI/Identifying_Music_Genre/gtzan_2/hiphop/hiphop.00031.au\n",
            "Reading file: A:/TechieYan projects/AI/Identifying_Music_Genre/gtzan_2/hiphop/hiphop.00032.au\n",
            "Reading file: A:/TechieYan projects/AI/Identifying_Music_Genre/gtzan_2/hiphop/hiphop.00033.au\n",
            "Reading file: A:/TechieYan projects/AI/Identifying_Music_Genre/gtzan_2/hiphop/hiphop.00034.au\n",
            "Reading file: A:/TechieYan projects/AI/Identifying_Music_Genre/gtzan_2/hiphop/hiphop.00035.au\n",
            "Reading file: A:/TechieYan projects/AI/Identifying_Music_Genre/gtzan_2/hiphop/hiphop.00036.au\n",
            "Reading file: A:/TechieYan projects/AI/Identifying_Music_Genre/gtzan_2/hiphop/hiphop.00037.au\n",
            "Reading file: A:/TechieYan projects/AI/Identifying_Music_Genre/gtzan_2/hiphop/hiphop.00038.au\n",
            "Reading file: A:/TechieYan projects/AI/Identifying_Music_Genre/gtzan_2/hiphop/hiphop.00039.au\n",
            "Reading file: A:/TechieYan projects/AI/Identifying_Music_Genre/gtzan_2/hiphop/hiphop.00040.au\n",
            "Reading file: A:/TechieYan projects/AI/Identifying_Music_Genre/gtzan_2/hiphop/hiphop.00041.au\n",
            "Reading file: A:/TechieYan projects/AI/Identifying_Music_Genre/gtzan_2/hiphop/hiphop.00042.au\n",
            "Reading file: A:/TechieYan projects/AI/Identifying_Music_Genre/gtzan_2/hiphop/hiphop.00043.au\n",
            "Reading file: A:/TechieYan projects/AI/Identifying_Music_Genre/gtzan_2/hiphop/hiphop.00044.au\n",
            "Reading file: A:/TechieYan projects/AI/Identifying_Music_Genre/gtzan_2/hiphop/hiphop.00045.au\n",
            "Reading file: A:/TechieYan projects/AI/Identifying_Music_Genre/gtzan_2/hiphop/hiphop.00046.au\n",
            "Reading file: A:/TechieYan projects/AI/Identifying_Music_Genre/gtzan_2/hiphop/hiphop.00047.au\n",
            "Reading file: A:/TechieYan projects/AI/Identifying_Music_Genre/gtzan_2/hiphop/hiphop.00048.au\n",
            "Reading file: A:/TechieYan projects/AI/Identifying_Music_Genre/gtzan_2/hiphop/hiphop.00049.au\n",
            "Reading file: A:/TechieYan projects/AI/Identifying_Music_Genre/gtzan_2/hiphop/hiphop.00050.au\n",
            "Reading file: A:/TechieYan projects/AI/Identifying_Music_Genre/gtzan_2/jazz/jazz.00000.au\n",
            "Reading file: A:/TechieYan projects/AI/Identifying_Music_Genre/gtzan_2/jazz/jazz.00001.au\n",
            "Reading file: A:/TechieYan projects/AI/Identifying_Music_Genre/gtzan_2/jazz/jazz.00002.au\n",
            "Reading file: A:/TechieYan projects/AI/Identifying_Music_Genre/gtzan_2/jazz/jazz.00003.au\n",
            "Reading file: A:/TechieYan projects/AI/Identifying_Music_Genre/gtzan_2/jazz/jazz.00004.au\n",
            "Reading file: A:/TechieYan projects/AI/Identifying_Music_Genre/gtzan_2/jazz/jazz.00005.au\n",
            "Reading file: A:/TechieYan projects/AI/Identifying_Music_Genre/gtzan_2/jazz/jazz.00006.au\n",
            "Reading file: A:/TechieYan projects/AI/Identifying_Music_Genre/gtzan_2/jazz/jazz.00007.au\n",
            "Reading file: A:/TechieYan projects/AI/Identifying_Music_Genre/gtzan_2/jazz/jazz.00008.au\n",
            "Reading file: A:/TechieYan projects/AI/Identifying_Music_Genre/gtzan_2/jazz/jazz.00009.au\n",
            "Reading file: A:/TechieYan projects/AI/Identifying_Music_Genre/gtzan_2/jazz/jazz.00010.au\n",
            "Reading file: A:/TechieYan projects/AI/Identifying_Music_Genre/gtzan_2/jazz/jazz.00011.au\n",
            "Reading file: A:/TechieYan projects/AI/Identifying_Music_Genre/gtzan_2/jazz/jazz.00012.au\n",
            "Reading file: A:/TechieYan projects/AI/Identifying_Music_Genre/gtzan_2/jazz/jazz.00013.au\n",
            "Reading file: A:/TechieYan projects/AI/Identifying_Music_Genre/gtzan_2/jazz/jazz.00014.au\n",
            "Reading file: A:/TechieYan projects/AI/Identifying_Music_Genre/gtzan_2/jazz/jazz.00015.au\n",
            "Reading file: A:/TechieYan projects/AI/Identifying_Music_Genre/gtzan_2/jazz/jazz.00016.au\n",
            "Reading file: A:/TechieYan projects/AI/Identifying_Music_Genre/gtzan_2/jazz/jazz.00017.au\n",
            "Reading file: A:/TechieYan projects/AI/Identifying_Music_Genre/gtzan_2/jazz/jazz.00018.au\n",
            "Reading file: A:/TechieYan projects/AI/Identifying_Music_Genre/gtzan_2/jazz/jazz.00019.au\n",
            "Reading file: A:/TechieYan projects/AI/Identifying_Music_Genre/gtzan_2/jazz/jazz.00020.au\n",
            "Reading file: A:/TechieYan projects/AI/Identifying_Music_Genre/gtzan_2/jazz/jazz.00021.au\n",
            "Reading file: A:/TechieYan projects/AI/Identifying_Music_Genre/gtzan_2/jazz/jazz.00022.au\n",
            "Reading file: A:/TechieYan projects/AI/Identifying_Music_Genre/gtzan_2/jazz/jazz.00023.au\n",
            "Reading file: A:/TechieYan projects/AI/Identifying_Music_Genre/gtzan_2/jazz/jazz.00024.au\n",
            "Reading file: A:/TechieYan projects/AI/Identifying_Music_Genre/gtzan_2/jazz/jazz.00025.au\n",
            "Reading file: A:/TechieYan projects/AI/Identifying_Music_Genre/gtzan_2/jazz/jazz.00026.au\n",
            "Reading file: A:/TechieYan projects/AI/Identifying_Music_Genre/gtzan_2/jazz/jazz.00027.au\n",
            "Reading file: A:/TechieYan projects/AI/Identifying_Music_Genre/gtzan_2/jazz/jazz.00028.au\n",
            "Reading file: A:/TechieYan projects/AI/Identifying_Music_Genre/gtzan_2/jazz/jazz.00029.au\n",
            "Reading file: A:/TechieYan projects/AI/Identifying_Music_Genre/gtzan_2/jazz/jazz.00030.au\n",
            "Reading file: A:/TechieYan projects/AI/Identifying_Music_Genre/gtzan_2/jazz/jazz.00031.au\n",
            "Reading file: A:/TechieYan projects/AI/Identifying_Music_Genre/gtzan_2/jazz/jazz.00032.au\n",
            "Reading file: A:/TechieYan projects/AI/Identifying_Music_Genre/gtzan_2/jazz/jazz.00033.au\n",
            "Reading file: A:/TechieYan projects/AI/Identifying_Music_Genre/gtzan_2/jazz/jazz.00034.au\n",
            "Reading file: A:/TechieYan projects/AI/Identifying_Music_Genre/gtzan_2/jazz/jazz.00035.au\n",
            "Reading file: A:/TechieYan projects/AI/Identifying_Music_Genre/gtzan_2/jazz/jazz.00036.au\n",
            "Reading file: A:/TechieYan projects/AI/Identifying_Music_Genre/gtzan_2/jazz/jazz.00037.au\n",
            "Reading file: A:/TechieYan projects/AI/Identifying_Music_Genre/gtzan_2/jazz/jazz.00038.au\n",
            "Reading file: A:/TechieYan projects/AI/Identifying_Music_Genre/gtzan_2/jazz/jazz.00039.au\n",
            "Reading file: A:/TechieYan projects/AI/Identifying_Music_Genre/gtzan_2/jazz/jazz.00040.au\n",
            "Reading file: A:/TechieYan projects/AI/Identifying_Music_Genre/gtzan_2/jazz/jazz.00041.au\n",
            "Reading file: A:/TechieYan projects/AI/Identifying_Music_Genre/gtzan_2/jazz/jazz.00042.au\n",
            "Reading file: A:/TechieYan projects/AI/Identifying_Music_Genre/gtzan_2/jazz/jazz.00043.au\n",
            "Reading file: A:/TechieYan projects/AI/Identifying_Music_Genre/gtzan_2/jazz/jazz.00044.au\n",
            "Reading file: A:/TechieYan projects/AI/Identifying_Music_Genre/gtzan_2/jazz/jazz.00045.au\n",
            "Reading file: A:/TechieYan projects/AI/Identifying_Music_Genre/gtzan_2/jazz/jazz.00046.au\n",
            "Reading file: A:/TechieYan projects/AI/Identifying_Music_Genre/gtzan_2/jazz/jazz.00047.au\n",
            "Reading file: A:/TechieYan projects/AI/Identifying_Music_Genre/gtzan_2/jazz/jazz.00048.au\n",
            "Reading file: A:/TechieYan projects/AI/Identifying_Music_Genre/gtzan_2/jazz/jazz.00049.au\n",
            "Reading file: A:/TechieYan projects/AI/Identifying_Music_Genre/gtzan_2/jazz/jazz.00050.au\n",
            "Reading file: A:/TechieYan projects/AI/Identifying_Music_Genre/gtzan_2/country/country.00000.au\n",
            "Reading file: A:/TechieYan projects/AI/Identifying_Music_Genre/gtzan_2/country/country.00001.au\n",
            "Reading file: A:/TechieYan projects/AI/Identifying_Music_Genre/gtzan_2/country/country.00002.au\n",
            "Reading file: A:/TechieYan projects/AI/Identifying_Music_Genre/gtzan_2/country/country.00003.au\n",
            "Reading file: A:/TechieYan projects/AI/Identifying_Music_Genre/gtzan_2/country/country.00004.au\n",
            "Reading file: A:/TechieYan projects/AI/Identifying_Music_Genre/gtzan_2/country/country.00005.au\n",
            "Reading file: A:/TechieYan projects/AI/Identifying_Music_Genre/gtzan_2/country/country.00006.au\n",
            "Reading file: A:/TechieYan projects/AI/Identifying_Music_Genre/gtzan_2/country/country.00007.au\n",
            "Reading file: A:/TechieYan projects/AI/Identifying_Music_Genre/gtzan_2/country/country.00008.au\n",
            "Reading file: A:/TechieYan projects/AI/Identifying_Music_Genre/gtzan_2/country/country.00009.au\n",
            "Reading file: A:/TechieYan projects/AI/Identifying_Music_Genre/gtzan_2/country/country.00010.au\n",
            "Reading file: A:/TechieYan projects/AI/Identifying_Music_Genre/gtzan_2/country/country.00011.au\n",
            "Reading file: A:/TechieYan projects/AI/Identifying_Music_Genre/gtzan_2/country/country.00012.au\n",
            "Reading file: A:/TechieYan projects/AI/Identifying_Music_Genre/gtzan_2/country/country.00013.au\n",
            "Reading file: A:/TechieYan projects/AI/Identifying_Music_Genre/gtzan_2/country/country.00014.au\n",
            "Reading file: A:/TechieYan projects/AI/Identifying_Music_Genre/gtzan_2/country/country.00015.au\n",
            "Reading file: A:/TechieYan projects/AI/Identifying_Music_Genre/gtzan_2/country/country.00016.au\n",
            "Reading file: A:/TechieYan projects/AI/Identifying_Music_Genre/gtzan_2/country/country.00017.au\n",
            "Reading file: A:/TechieYan projects/AI/Identifying_Music_Genre/gtzan_2/country/country.00018.au\n",
            "Reading file: A:/TechieYan projects/AI/Identifying_Music_Genre/gtzan_2/country/country.00019.au\n",
            "Reading file: A:/TechieYan projects/AI/Identifying_Music_Genre/gtzan_2/country/country.00020.au\n",
            "Reading file: A:/TechieYan projects/AI/Identifying_Music_Genre/gtzan_2/country/country.00021.au\n",
            "Reading file: A:/TechieYan projects/AI/Identifying_Music_Genre/gtzan_2/country/country.00022.au\n",
            "Reading file: A:/TechieYan projects/AI/Identifying_Music_Genre/gtzan_2/country/country.00023.au\n",
            "Reading file: A:/TechieYan projects/AI/Identifying_Music_Genre/gtzan_2/country/country.00024.au\n",
            "Reading file: A:/TechieYan projects/AI/Identifying_Music_Genre/gtzan_2/country/country.00025.au\n",
            "Reading file: A:/TechieYan projects/AI/Identifying_Music_Genre/gtzan_2/country/country.00026.au\n",
            "Reading file: A:/TechieYan projects/AI/Identifying_Music_Genre/gtzan_2/country/country.00027.au\n",
            "Reading file: A:/TechieYan projects/AI/Identifying_Music_Genre/gtzan_2/country/country.00028.au\n",
            "Reading file: A:/TechieYan projects/AI/Identifying_Music_Genre/gtzan_2/country/country.00029.au\n",
            "Reading file: A:/TechieYan projects/AI/Identifying_Music_Genre/gtzan_2/country/country.00030.au\n",
            "Reading file: A:/TechieYan projects/AI/Identifying_Music_Genre/gtzan_2/country/country.00031.au\n",
            "Reading file: A:/TechieYan projects/AI/Identifying_Music_Genre/gtzan_2/country/country.00032.au\n",
            "Reading file: A:/TechieYan projects/AI/Identifying_Music_Genre/gtzan_2/country/country.00033.au\n",
            "Reading file: A:/TechieYan projects/AI/Identifying_Music_Genre/gtzan_2/country/country.00034.au\n",
            "Reading file: A:/TechieYan projects/AI/Identifying_Music_Genre/gtzan_2/country/country.00035.au\n",
            "Reading file: A:/TechieYan projects/AI/Identifying_Music_Genre/gtzan_2/country/country.00036.au\n",
            "Reading file: A:/TechieYan projects/AI/Identifying_Music_Genre/gtzan_2/country/country.00037.au\n",
            "Reading file: A:/TechieYan projects/AI/Identifying_Music_Genre/gtzan_2/country/country.00038.au\n",
            "Reading file: A:/TechieYan projects/AI/Identifying_Music_Genre/gtzan_2/country/country.00039.au\n",
            "Reading file: A:/TechieYan projects/AI/Identifying_Music_Genre/gtzan_2/country/country.00040.au\n",
            "Reading file: A:/TechieYan projects/AI/Identifying_Music_Genre/gtzan_2/country/country.00041.au\n",
            "Reading file: A:/TechieYan projects/AI/Identifying_Music_Genre/gtzan_2/country/country.00042.au\n",
            "Reading file: A:/TechieYan projects/AI/Identifying_Music_Genre/gtzan_2/country/country.00043.au\n",
            "Reading file: A:/TechieYan projects/AI/Identifying_Music_Genre/gtzan_2/country/country.00044.au\n",
            "Reading file: A:/TechieYan projects/AI/Identifying_Music_Genre/gtzan_2/country/country.00045.au\n",
            "Reading file: A:/TechieYan projects/AI/Identifying_Music_Genre/gtzan_2/country/country.00046.au\n",
            "Reading file: A:/TechieYan projects/AI/Identifying_Music_Genre/gtzan_2/country/country.00047.au\n",
            "Reading file: A:/TechieYan projects/AI/Identifying_Music_Genre/gtzan_2/country/country.00048.au\n",
            "Reading file: A:/TechieYan projects/AI/Identifying_Music_Genre/gtzan_2/country/country.00049.au\n",
            "Reading file: A:/TechieYan projects/AI/Identifying_Music_Genre/gtzan_2/country/country.00050.au\n",
            "Reading file: A:/TechieYan projects/AI/Identifying_Music_Genre/gtzan_2/pop/pop.00000.au\n",
            "Reading file: A:/TechieYan projects/AI/Identifying_Music_Genre/gtzan_2/pop/pop.00001.au\n",
            "Reading file: A:/TechieYan projects/AI/Identifying_Music_Genre/gtzan_2/pop/pop.00002.au\n",
            "Reading file: A:/TechieYan projects/AI/Identifying_Music_Genre/gtzan_2/pop/pop.00003.au\n",
            "Reading file: A:/TechieYan projects/AI/Identifying_Music_Genre/gtzan_2/pop/pop.00004.au\n",
            "Reading file: A:/TechieYan projects/AI/Identifying_Music_Genre/gtzan_2/pop/pop.00005.au\n",
            "Reading file: A:/TechieYan projects/AI/Identifying_Music_Genre/gtzan_2/pop/pop.00006.au\n",
            "Reading file: A:/TechieYan projects/AI/Identifying_Music_Genre/gtzan_2/pop/pop.00007.au\n",
            "Reading file: A:/TechieYan projects/AI/Identifying_Music_Genre/gtzan_2/pop/pop.00008.au\n",
            "Reading file: A:/TechieYan projects/AI/Identifying_Music_Genre/gtzan_2/pop/pop.00009.au\n",
            "Reading file: A:/TechieYan projects/AI/Identifying_Music_Genre/gtzan_2/pop/pop.00010.au\n",
            "Reading file: A:/TechieYan projects/AI/Identifying_Music_Genre/gtzan_2/pop/pop.00011.au\n",
            "Reading file: A:/TechieYan projects/AI/Identifying_Music_Genre/gtzan_2/pop/pop.00012.au\n",
            "Reading file: A:/TechieYan projects/AI/Identifying_Music_Genre/gtzan_2/pop/pop.00013.au\n",
            "Reading file: A:/TechieYan projects/AI/Identifying_Music_Genre/gtzan_2/pop/pop.00014.au\n",
            "Reading file: A:/TechieYan projects/AI/Identifying_Music_Genre/gtzan_2/pop/pop.00015.au\n",
            "Reading file: A:/TechieYan projects/AI/Identifying_Music_Genre/gtzan_2/pop/pop.00016.au\n",
            "Reading file: A:/TechieYan projects/AI/Identifying_Music_Genre/gtzan_2/pop/pop.00017.au\n",
            "Reading file: A:/TechieYan projects/AI/Identifying_Music_Genre/gtzan_2/pop/pop.00018.au\n",
            "Reading file: A:/TechieYan projects/AI/Identifying_Music_Genre/gtzan_2/pop/pop.00019.au\n",
            "Reading file: A:/TechieYan projects/AI/Identifying_Music_Genre/gtzan_2/pop/pop.00020.au\n",
            "Reading file: A:/TechieYan projects/AI/Identifying_Music_Genre/gtzan_2/pop/pop.00021.au\n",
            "Reading file: A:/TechieYan projects/AI/Identifying_Music_Genre/gtzan_2/pop/pop.00022.au\n",
            "Reading file: A:/TechieYan projects/AI/Identifying_Music_Genre/gtzan_2/pop/pop.00023.au\n",
            "Reading file: A:/TechieYan projects/AI/Identifying_Music_Genre/gtzan_2/pop/pop.00024.au\n",
            "Reading file: A:/TechieYan projects/AI/Identifying_Music_Genre/gtzan_2/pop/pop.00025.au\n",
            "Reading file: A:/TechieYan projects/AI/Identifying_Music_Genre/gtzan_2/pop/pop.00026.au\n",
            "Reading file: A:/TechieYan projects/AI/Identifying_Music_Genre/gtzan_2/pop/pop.00027.au\n",
            "Reading file: A:/TechieYan projects/AI/Identifying_Music_Genre/gtzan_2/pop/pop.00028.au\n",
            "Reading file: A:/TechieYan projects/AI/Identifying_Music_Genre/gtzan_2/pop/pop.00029.au\n",
            "Reading file: A:/TechieYan projects/AI/Identifying_Music_Genre/gtzan_2/pop/pop.00030.au\n",
            "Reading file: A:/TechieYan projects/AI/Identifying_Music_Genre/gtzan_2/pop/pop.00031.au\n",
            "Reading file: A:/TechieYan projects/AI/Identifying_Music_Genre/gtzan_2/pop/pop.00032.au\n",
            "Reading file: A:/TechieYan projects/AI/Identifying_Music_Genre/gtzan_2/pop/pop.00033.au\n",
            "Reading file: A:/TechieYan projects/AI/Identifying_Music_Genre/gtzan_2/pop/pop.00034.au\n",
            "Reading file: A:/TechieYan projects/AI/Identifying_Music_Genre/gtzan_2/pop/pop.00035.au\n",
            "Reading file: A:/TechieYan projects/AI/Identifying_Music_Genre/gtzan_2/pop/pop.00036.au\n",
            "Reading file: A:/TechieYan projects/AI/Identifying_Music_Genre/gtzan_2/pop/pop.00037.au\n",
            "Reading file: A:/TechieYan projects/AI/Identifying_Music_Genre/gtzan_2/pop/pop.00038.au\n",
            "Reading file: A:/TechieYan projects/AI/Identifying_Music_Genre/gtzan_2/pop/pop.00039.au\n",
            "Reading file: A:/TechieYan projects/AI/Identifying_Music_Genre/gtzan_2/pop/pop.00040.au\n",
            "Reading file: A:/TechieYan projects/AI/Identifying_Music_Genre/gtzan_2/pop/pop.00041.au\n",
            "Reading file: A:/TechieYan projects/AI/Identifying_Music_Genre/gtzan_2/pop/pop.00042.au\n",
            "Reading file: A:/TechieYan projects/AI/Identifying_Music_Genre/gtzan_2/pop/pop.00043.au\n",
            "Reading file: A:/TechieYan projects/AI/Identifying_Music_Genre/gtzan_2/pop/pop.00044.au\n",
            "Reading file: A:/TechieYan projects/AI/Identifying_Music_Genre/gtzan_2/pop/pop.00045.au\n",
            "Reading file: A:/TechieYan projects/AI/Identifying_Music_Genre/gtzan_2/pop/pop.00046.au\n",
            "Reading file: A:/TechieYan projects/AI/Identifying_Music_Genre/gtzan_2/pop/pop.00047.au\n",
            "Reading file: A:/TechieYan projects/AI/Identifying_Music_Genre/gtzan_2/pop/pop.00048.au\n",
            "Reading file: A:/TechieYan projects/AI/Identifying_Music_Genre/gtzan_2/pop/pop.00049.au\n",
            "Reading file: A:/TechieYan projects/AI/Identifying_Music_Genre/gtzan_2/pop/pop.00050.au\n",
            "Reading file: A:/TechieYan projects/AI/Identifying_Music_Genre/gtzan_2/blues/blues.00000.au\n",
            "Reading file: A:/TechieYan projects/AI/Identifying_Music_Genre/gtzan_2/blues/blues.00001.au\n",
            "Reading file: A:/TechieYan projects/AI/Identifying_Music_Genre/gtzan_2/blues/blues.00002.au\n",
            "Reading file: A:/TechieYan projects/AI/Identifying_Music_Genre/gtzan_2/blues/blues.00003.au\n",
            "Reading file: A:/TechieYan projects/AI/Identifying_Music_Genre/gtzan_2/blues/blues.00004.au\n",
            "Reading file: A:/TechieYan projects/AI/Identifying_Music_Genre/gtzan_2/blues/blues.00005.au\n",
            "Reading file: A:/TechieYan projects/AI/Identifying_Music_Genre/gtzan_2/blues/blues.00006.au\n",
            "Reading file: A:/TechieYan projects/AI/Identifying_Music_Genre/gtzan_2/blues/blues.00007.au\n",
            "Reading file: A:/TechieYan projects/AI/Identifying_Music_Genre/gtzan_2/blues/blues.00008.au\n",
            "Reading file: A:/TechieYan projects/AI/Identifying_Music_Genre/gtzan_2/blues/blues.00009.au\n",
            "Reading file: A:/TechieYan projects/AI/Identifying_Music_Genre/gtzan_2/blues/blues.00010.au\n",
            "Reading file: A:/TechieYan projects/AI/Identifying_Music_Genre/gtzan_2/blues/blues.00011.au\n",
            "Reading file: A:/TechieYan projects/AI/Identifying_Music_Genre/gtzan_2/blues/blues.00012.au\n",
            "Reading file: A:/TechieYan projects/AI/Identifying_Music_Genre/gtzan_2/blues/blues.00013.au\n",
            "Reading file: A:/TechieYan projects/AI/Identifying_Music_Genre/gtzan_2/blues/blues.00014.au\n",
            "Reading file: A:/TechieYan projects/AI/Identifying_Music_Genre/gtzan_2/blues/blues.00015.au\n",
            "Reading file: A:/TechieYan projects/AI/Identifying_Music_Genre/gtzan_2/blues/blues.00016.au\n",
            "Reading file: A:/TechieYan projects/AI/Identifying_Music_Genre/gtzan_2/blues/blues.00017.au\n",
            "Reading file: A:/TechieYan projects/AI/Identifying_Music_Genre/gtzan_2/blues/blues.00018.au\n",
            "Reading file: A:/TechieYan projects/AI/Identifying_Music_Genre/gtzan_2/blues/blues.00019.au\n",
            "Reading file: A:/TechieYan projects/AI/Identifying_Music_Genre/gtzan_2/blues/blues.00020.au\n",
            "Reading file: A:/TechieYan projects/AI/Identifying_Music_Genre/gtzan_2/blues/blues.00021.au\n",
            "Reading file: A:/TechieYan projects/AI/Identifying_Music_Genre/gtzan_2/blues/blues.00022.au\n",
            "Reading file: A:/TechieYan projects/AI/Identifying_Music_Genre/gtzan_2/blues/blues.00023.au\n",
            "Reading file: A:/TechieYan projects/AI/Identifying_Music_Genre/gtzan_2/blues/blues.00024.au\n",
            "Reading file: A:/TechieYan projects/AI/Identifying_Music_Genre/gtzan_2/blues/blues.00025.au\n",
            "Reading file: A:/TechieYan projects/AI/Identifying_Music_Genre/gtzan_2/blues/blues.00026.au\n",
            "Reading file: A:/TechieYan projects/AI/Identifying_Music_Genre/gtzan_2/blues/blues.00027.au\n",
            "Reading file: A:/TechieYan projects/AI/Identifying_Music_Genre/gtzan_2/blues/blues.00028.au\n",
            "Reading file: A:/TechieYan projects/AI/Identifying_Music_Genre/gtzan_2/blues/blues.00029.au\n",
            "Reading file: A:/TechieYan projects/AI/Identifying_Music_Genre/gtzan_2/blues/blues.00030.au\n",
            "Reading file: A:/TechieYan projects/AI/Identifying_Music_Genre/gtzan_2/blues/blues.00031.au\n",
            "Reading file: A:/TechieYan projects/AI/Identifying_Music_Genre/gtzan_2/blues/blues.00032.au\n",
            "Reading file: A:/TechieYan projects/AI/Identifying_Music_Genre/gtzan_2/blues/blues.00033.au\n",
            "Reading file: A:/TechieYan projects/AI/Identifying_Music_Genre/gtzan_2/blues/blues.00034.au\n",
            "Reading file: A:/TechieYan projects/AI/Identifying_Music_Genre/gtzan_2/blues/blues.00035.au\n",
            "Reading file: A:/TechieYan projects/AI/Identifying_Music_Genre/gtzan_2/blues/blues.00036.au\n",
            "Reading file: A:/TechieYan projects/AI/Identifying_Music_Genre/gtzan_2/blues/blues.00037.au\n",
            "Reading file: A:/TechieYan projects/AI/Identifying_Music_Genre/gtzan_2/blues/blues.00038.au\n",
            "Reading file: A:/TechieYan projects/AI/Identifying_Music_Genre/gtzan_2/blues/blues.00039.au\n",
            "Reading file: A:/TechieYan projects/AI/Identifying_Music_Genre/gtzan_2/blues/blues.00040.au\n",
            "Reading file: A:/TechieYan projects/AI/Identifying_Music_Genre/gtzan_2/blues/blues.00041.au\n",
            "Reading file: A:/TechieYan projects/AI/Identifying_Music_Genre/gtzan_2/blues/blues.00042.au\n",
            "Reading file: A:/TechieYan projects/AI/Identifying_Music_Genre/gtzan_2/blues/blues.00043.au\n",
            "Reading file: A:/TechieYan projects/AI/Identifying_Music_Genre/gtzan_2/blues/blues.00044.au\n",
            "Reading file: A:/TechieYan projects/AI/Identifying_Music_Genre/gtzan_2/blues/blues.00045.au\n",
            "Reading file: A:/TechieYan projects/AI/Identifying_Music_Genre/gtzan_2/blues/blues.00046.au\n",
            "Reading file: A:/TechieYan projects/AI/Identifying_Music_Genre/gtzan_2/blues/blues.00047.au\n",
            "Reading file: A:/TechieYan projects/AI/Identifying_Music_Genre/gtzan_2/blues/blues.00048.au\n",
            "Reading file: A:/TechieYan projects/AI/Identifying_Music_Genre/gtzan_2/blues/blues.00049.au\n",
            "Reading file: A:/TechieYan projects/AI/Identifying_Music_Genre/gtzan_2/blues/blues.00050.au\n",
            "Reading file: A:/TechieYan projects/AI/Identifying_Music_Genre/gtzan_2/blues/blues.00051.au\n",
            "Reading file: A:/TechieYan projects/AI/Identifying_Music_Genre/gtzan_2/reggae/reggae.00000.au\n",
            "Reading file: A:/TechieYan projects/AI/Identifying_Music_Genre/gtzan_2/reggae/reggae.00001.au\n",
            "Reading file: A:/TechieYan projects/AI/Identifying_Music_Genre/gtzan_2/reggae/reggae.00002.au\n",
            "Reading file: A:/TechieYan projects/AI/Identifying_Music_Genre/gtzan_2/reggae/reggae.00003.au\n",
            "Reading file: A:/TechieYan projects/AI/Identifying_Music_Genre/gtzan_2/reggae/reggae.00004.au\n",
            "Reading file: A:/TechieYan projects/AI/Identifying_Music_Genre/gtzan_2/reggae/reggae.00005.au\n",
            "Reading file: A:/TechieYan projects/AI/Identifying_Music_Genre/gtzan_2/reggae/reggae.00006.au\n",
            "Reading file: A:/TechieYan projects/AI/Identifying_Music_Genre/gtzan_2/reggae/reggae.00007.au\n",
            "Reading file: A:/TechieYan projects/AI/Identifying_Music_Genre/gtzan_2/reggae/reggae.00008.au\n",
            "Reading file: A:/TechieYan projects/AI/Identifying_Music_Genre/gtzan_2/reggae/reggae.00009.au\n",
            "Reading file: A:/TechieYan projects/AI/Identifying_Music_Genre/gtzan_2/reggae/reggae.00010.au\n",
            "Reading file: A:/TechieYan projects/AI/Identifying_Music_Genre/gtzan_2/reggae/reggae.00011.au\n",
            "Reading file: A:/TechieYan projects/AI/Identifying_Music_Genre/gtzan_2/reggae/reggae.00012.au\n",
            "Reading file: A:/TechieYan projects/AI/Identifying_Music_Genre/gtzan_2/reggae/reggae.00013.au\n",
            "Reading file: A:/TechieYan projects/AI/Identifying_Music_Genre/gtzan_2/reggae/reggae.00014.au\n",
            "Reading file: A:/TechieYan projects/AI/Identifying_Music_Genre/gtzan_2/reggae/reggae.00015.au\n",
            "Reading file: A:/TechieYan projects/AI/Identifying_Music_Genre/gtzan_2/reggae/reggae.00016.au\n",
            "Reading file: A:/TechieYan projects/AI/Identifying_Music_Genre/gtzan_2/reggae/reggae.00017.au\n",
            "Reading file: A:/TechieYan projects/AI/Identifying_Music_Genre/gtzan_2/reggae/reggae.00018.au\n",
            "Reading file: A:/TechieYan projects/AI/Identifying_Music_Genre/gtzan_2/reggae/reggae.00019.au\n",
            "Reading file: A:/TechieYan projects/AI/Identifying_Music_Genre/gtzan_2/reggae/reggae.00020.au\n",
            "Reading file: A:/TechieYan projects/AI/Identifying_Music_Genre/gtzan_2/reggae/reggae.00021.au\n",
            "Reading file: A:/TechieYan projects/AI/Identifying_Music_Genre/gtzan_2/reggae/reggae.00022.au\n",
            "Reading file: A:/TechieYan projects/AI/Identifying_Music_Genre/gtzan_2/reggae/reggae.00023.au\n",
            "Reading file: A:/TechieYan projects/AI/Identifying_Music_Genre/gtzan_2/reggae/reggae.00024.au\n",
            "Reading file: A:/TechieYan projects/AI/Identifying_Music_Genre/gtzan_2/reggae/reggae.00025.au\n",
            "Reading file: A:/TechieYan projects/AI/Identifying_Music_Genre/gtzan_2/reggae/reggae.00026.au\n",
            "Reading file: A:/TechieYan projects/AI/Identifying_Music_Genre/gtzan_2/reggae/reggae.00027.au\n",
            "Reading file: A:/TechieYan projects/AI/Identifying_Music_Genre/gtzan_2/reggae/reggae.00028.au\n",
            "Reading file: A:/TechieYan projects/AI/Identifying_Music_Genre/gtzan_2/reggae/reggae.00029.au\n",
            "Reading file: A:/TechieYan projects/AI/Identifying_Music_Genre/gtzan_2/reggae/reggae.00030.au\n",
            "Reading file: A:/TechieYan projects/AI/Identifying_Music_Genre/gtzan_2/reggae/reggae.00031.au\n",
            "Reading file: A:/TechieYan projects/AI/Identifying_Music_Genre/gtzan_2/reggae/reggae.00032.au\n",
            "Reading file: A:/TechieYan projects/AI/Identifying_Music_Genre/gtzan_2/reggae/reggae.00033.au\n",
            "Reading file: A:/TechieYan projects/AI/Identifying_Music_Genre/gtzan_2/reggae/reggae.00034.au\n",
            "Reading file: A:/TechieYan projects/AI/Identifying_Music_Genre/gtzan_2/reggae/reggae.00035.au\n",
            "Reading file: A:/TechieYan projects/AI/Identifying_Music_Genre/gtzan_2/reggae/reggae.00036.au\n",
            "Reading file: A:/TechieYan projects/AI/Identifying_Music_Genre/gtzan_2/reggae/reggae.00037.au\n",
            "Reading file: A:/TechieYan projects/AI/Identifying_Music_Genre/gtzan_2/reggae/reggae.00038.au\n",
            "Reading file: A:/TechieYan projects/AI/Identifying_Music_Genre/gtzan_2/reggae/reggae.00039.au\n",
            "Reading file: A:/TechieYan projects/AI/Identifying_Music_Genre/gtzan_2/reggae/reggae.00040.au\n",
            "Reading file: A:/TechieYan projects/AI/Identifying_Music_Genre/gtzan_2/reggae/reggae.00041.au\n",
            "Reading file: A:/TechieYan projects/AI/Identifying_Music_Genre/gtzan_2/reggae/reggae.00042.au\n",
            "Reading file: A:/TechieYan projects/AI/Identifying_Music_Genre/gtzan_2/reggae/reggae.00043.au\n",
            "Reading file: A:/TechieYan projects/AI/Identifying_Music_Genre/gtzan_2/reggae/reggae.00044.au\n",
            "Reading file: A:/TechieYan projects/AI/Identifying_Music_Genre/gtzan_2/reggae/reggae.00045.au\n",
            "Reading file: A:/TechieYan projects/AI/Identifying_Music_Genre/gtzan_2/reggae/reggae.00046.au\n",
            "Reading file: A:/TechieYan projects/AI/Identifying_Music_Genre/gtzan_2/reggae/reggae.00047.au\n",
            "Reading file: A:/TechieYan projects/AI/Identifying_Music_Genre/gtzan_2/reggae/reggae.00048.au\n",
            "Reading file: A:/TechieYan projects/AI/Identifying_Music_Genre/gtzan_2/reggae/reggae.00049.au\n",
            "Reading file: A:/TechieYan projects/AI/Identifying_Music_Genre/gtzan_2/reggae/reggae.00050.au\n",
            "Reading file: A:/TechieYan projects/AI/Identifying_Music_Genre/gtzan_2/rock/rock.00000.au\n",
            "Reading file: A:/TechieYan projects/AI/Identifying_Music_Genre/gtzan_2/rock/rock.00001.au\n",
            "Reading file: A:/TechieYan projects/AI/Identifying_Music_Genre/gtzan_2/rock/rock.00002.au\n",
            "Reading file: A:/TechieYan projects/AI/Identifying_Music_Genre/gtzan_2/rock/rock.00003.au\n",
            "Reading file: A:/TechieYan projects/AI/Identifying_Music_Genre/gtzan_2/rock/rock.00004.au\n",
            "Reading file: A:/TechieYan projects/AI/Identifying_Music_Genre/gtzan_2/rock/rock.00005.au\n",
            "Reading file: A:/TechieYan projects/AI/Identifying_Music_Genre/gtzan_2/rock/rock.00006.au\n",
            "Reading file: A:/TechieYan projects/AI/Identifying_Music_Genre/gtzan_2/rock/rock.00007.au\n",
            "Reading file: A:/TechieYan projects/AI/Identifying_Music_Genre/gtzan_2/rock/rock.00008.au\n",
            "Reading file: A:/TechieYan projects/AI/Identifying_Music_Genre/gtzan_2/rock/rock.00009.au\n",
            "Reading file: A:/TechieYan projects/AI/Identifying_Music_Genre/gtzan_2/rock/rock.00010.au\n",
            "Reading file: A:/TechieYan projects/AI/Identifying_Music_Genre/gtzan_2/rock/rock.00011.au\n",
            "Reading file: A:/TechieYan projects/AI/Identifying_Music_Genre/gtzan_2/rock/rock.00012.au\n",
            "Reading file: A:/TechieYan projects/AI/Identifying_Music_Genre/gtzan_2/rock/rock.00013.au\n",
            "Reading file: A:/TechieYan projects/AI/Identifying_Music_Genre/gtzan_2/rock/rock.00014.au\n",
            "Reading file: A:/TechieYan projects/AI/Identifying_Music_Genre/gtzan_2/rock/rock.00015.au\n",
            "Reading file: A:/TechieYan projects/AI/Identifying_Music_Genre/gtzan_2/rock/rock.00016.au\n",
            "Reading file: A:/TechieYan projects/AI/Identifying_Music_Genre/gtzan_2/rock/rock.00017.au\n",
            "Reading file: A:/TechieYan projects/AI/Identifying_Music_Genre/gtzan_2/rock/rock.00018.au\n",
            "Reading file: A:/TechieYan projects/AI/Identifying_Music_Genre/gtzan_2/rock/rock.00019.au\n",
            "Reading file: A:/TechieYan projects/AI/Identifying_Music_Genre/gtzan_2/rock/rock.00020.au\n",
            "Reading file: A:/TechieYan projects/AI/Identifying_Music_Genre/gtzan_2/rock/rock.00021.au\n",
            "Reading file: A:/TechieYan projects/AI/Identifying_Music_Genre/gtzan_2/rock/rock.00022.au\n",
            "Reading file: A:/TechieYan projects/AI/Identifying_Music_Genre/gtzan_2/rock/rock.00023.au\n",
            "Reading file: A:/TechieYan projects/AI/Identifying_Music_Genre/gtzan_2/rock/rock.00024.au\n",
            "Reading file: A:/TechieYan projects/AI/Identifying_Music_Genre/gtzan_2/rock/rock.00025.au\n",
            "Reading file: A:/TechieYan projects/AI/Identifying_Music_Genre/gtzan_2/rock/rock.00026.au\n",
            "Reading file: A:/TechieYan projects/AI/Identifying_Music_Genre/gtzan_2/rock/rock.00027.au\n",
            "Reading file: A:/TechieYan projects/AI/Identifying_Music_Genre/gtzan_2/rock/rock.00028.au\n",
            "Reading file: A:/TechieYan projects/AI/Identifying_Music_Genre/gtzan_2/rock/rock.00029.au\n",
            "Reading file: A:/TechieYan projects/AI/Identifying_Music_Genre/gtzan_2/rock/rock.00030.au\n",
            "Reading file: A:/TechieYan projects/AI/Identifying_Music_Genre/gtzan_2/rock/rock.00031.au\n",
            "Reading file: A:/TechieYan projects/AI/Identifying_Music_Genre/gtzan_2/rock/rock.00032.au\n",
            "Reading file: A:/TechieYan projects/AI/Identifying_Music_Genre/gtzan_2/rock/rock.00033.au\n",
            "Reading file: A:/TechieYan projects/AI/Identifying_Music_Genre/gtzan_2/rock/rock.00034.au\n",
            "Reading file: A:/TechieYan projects/AI/Identifying_Music_Genre/gtzan_2/rock/rock.00035.au\n",
            "Reading file: A:/TechieYan projects/AI/Identifying_Music_Genre/gtzan_2/rock/rock.00036.au\n",
            "Reading file: A:/TechieYan projects/AI/Identifying_Music_Genre/gtzan_2/rock/rock.00037.au\n",
            "Reading file: A:/TechieYan projects/AI/Identifying_Music_Genre/gtzan_2/rock/rock.00038.au\n",
            "Reading file: A:/TechieYan projects/AI/Identifying_Music_Genre/gtzan_2/rock/rock.00039.au\n",
            "Reading file: A:/TechieYan projects/AI/Identifying_Music_Genre/gtzan_2/rock/rock.00040.au\n",
            "Reading file: A:/TechieYan projects/AI/Identifying_Music_Genre/gtzan_2/rock/rock.00041.au\n",
            "Reading file: A:/TechieYan projects/AI/Identifying_Music_Genre/gtzan_2/rock/rock.00042.au\n",
            "Reading file: A:/TechieYan projects/AI/Identifying_Music_Genre/gtzan_2/rock/rock.00043.au\n",
            "Reading file: A:/TechieYan projects/AI/Identifying_Music_Genre/gtzan_2/rock/rock.00044.au\n",
            "Reading file: A:/TechieYan projects/AI/Identifying_Music_Genre/gtzan_2/rock/rock.00045.au\n",
            "Reading file: A:/TechieYan projects/AI/Identifying_Music_Genre/gtzan_2/rock/rock.00046.au\n",
            "Reading file: A:/TechieYan projects/AI/Identifying_Music_Genre/gtzan_2/rock/rock.00047.au\n",
            "Reading file: A:/TechieYan projects/AI/Identifying_Music_Genre/gtzan_2/rock/rock.00048.au\n",
            "Reading file: A:/TechieYan projects/AI/Identifying_Music_Genre/gtzan_2/rock/rock.00049.au\n",
            "Reading file: A:/TechieYan projects/AI/Identifying_Music_Genre/gtzan_2/rock/rock.00050.au\n"
          ]
        }
      ],
      "source": [
        "# Read the data\n",
        "X, y = read_data(gtzan_dir, genres, song_samples, to_melspectrogram, debug=True)\n",
        "np.save('A:/TechieYan projects/AI/Identifying_Music_Genre/data/x_gtzan_npy.npy', X)\n",
        "np.save('A:/TechieYan projects/AI/Identifying_Music_Genre/data/y_gtzan_npy.npy', y)"
      ]
    },
    {
      "cell_type": "code",
      "execution_count": 10,
      "metadata": {
        "id": "qWpT21rXQfa5"
      },
      "outputs": [],
      "source": [
        "X = np.load(r'A:/TechieYan projects/AI/Identifying_Music_Genre/data/x_gtzan_npy.npy')\n",
        "y = np.load(r'A:/TechieYan projects/AI/Identifying_Music_Genre/data/y_gtzan_npy.npy')"
      ]
    },
    {
      "cell_type": "code",
      "execution_count": 11,
      "metadata": {
        "colab": {
          "base_uri": "https://localhost:8080/"
        },
        "id": "cKjG9_Z5d95C",
        "outputId": "5a91e52d-0f4d-4967-c272-3c7ae7608942"
      },
      "outputs": [
        {
          "name": "stdout",
          "output_type": "stream",
          "text": [
            "[0 0 0 ... 9 9 9]\n"
          ]
        }
      ],
      "source": [
        "print(y)"
      ]
    },
    {
      "cell_type": "code",
      "execution_count": 12,
      "metadata": {
        "id": "u08a2XxAQfa8"
      },
      "outputs": [],
      "source": [
        "# One hot encoding of the labels\n",
        "y = to_categorical(y)"
      ]
    },
    {
      "cell_type": "markdown",
      "metadata": {
        "id": "RZTR4QAjQfbA"
      },
      "source": [
        "# Dataset Split"
      ]
    },
    {
      "cell_type": "code",
      "execution_count": 13,
      "metadata": {
        "colab": {
          "base_uri": "https://localhost:8080/"
        },
        "id": "s2s3p-EMQfbB",
        "outputId": "aa858d9b-92fe-49d0-e665-cdc8ba4f7ed9"
      },
      "outputs": [],
      "source": [
        "X_stack = np.squeeze(np.stack((X,) * 3, -1))\n",
        "X_stack.shape"
      ]
    },
    {
      "cell_type": "code",
      "execution_count": null,
      "metadata": {
        "id": "3KGYdj6oQfbG"
      },
      "outputs": [],
      "source": [
        "X_train, X_test, y_train, y_test = train_test_split(X_stack, y, test_size=0.3, random_state=42, stratify = y)"
      ]
    },
    {
      "cell_type": "code",
      "execution_count": null,
      "metadata": {
        "colab": {
          "base_uri": "https://localhost:8080/"
        },
        "id": "olPVl0BqQfbJ",
        "outputId": "577e194d-0b51-4f7a-da88-66c62e8c5bc5"
      },
      "outputs": [
        {
          "name": "stdout",
          "output_type": "stream",
          "text": [
            "(6796, 128, 129, 3) (2913, 128, 129, 3) (6796, 10) (2913, 10)\n"
          ]
        }
      ],
      "source": [
        "print(X_train.shape, X_test.shape, y_train.shape, y_test.shape)"
      ]
    },
    {
      "cell_type": "code",
      "execution_count": null,
      "metadata": {
        "colab": {
          "base_uri": "https://localhost:8080/",
          "height": 592
        },
        "id": "tSXPiqdSQfbO",
        "outputId": "1ad50737-e15d-48f7-c346-87183c155cd3"
      },
      "outputs": [
        {
          "data": {
            "image/png": "[encoded data removed]",
            "text/plain": [
              "<Figure size 864x720 with 1 Axes>"
            ]
          },
          "metadata": {
            "needs_background": "light"
          },
          "output_type": "display_data"
        }
      ],
      "source": [
        "# Histogram for train and test \n",
        "plt.figure(figsize =(12,10))\n",
        "\n",
        "values, count = np.unique(np.argmax(y_train, axis=1), return_counts=True)\n",
        "plt.bar(values, count)\n",
        "\n",
        "values, count = np.unique(np.argmax(y_test, axis=1), return_counts=True)\n",
        "plt.bar(values, count)\n",
        "plt.show()"
      ]
    },
    {
      "cell_type": "markdown",
      "metadata": {
        "id": "ZptzK0b3QfbU"
      },
      "source": [
        "# Training"
      ]
    },
    {
      "cell_type": "code",
      "execution_count": null,
      "metadata": {
        "colab": {
          "base_uri": "https://localhost:8080/"
        },
        "id": "R9gtL1xhQfbV",
        "outputId": "3bc424d7-f6cf-47d2-f5e5-fa6f73f344bf"
      },
      "outputs": [
        {
          "name": "stdout",
          "output_type": "stream",
          "text": [
            "Downloading data from https://storage.googleapis.com/tensorflow/keras-applications/vgg16/vgg16_weights_tf_dim_ordering_tf_kernels_notop.h5\n",
            "58892288/58889256 [==============================] - 2s 0us/step\n",
            "58900480/58889256 [==============================] - 2s 0us/step\n",
            "Creating EarlyStopping Callback ...\n",
            "Model: \"model\"\n",
            "_________________________________________________________________\n",
            " Layer (type)                Output Shape              Param #   \n",
            "=================================================================\n",
            " input_1 (InputLayer)        [(None, 128, 129, 3)]     0         \n",
            "                                                                 \n",
            " block1_conv1 (Conv2D)       (None, 128, 129, 64)      1792      \n",
            "                                                                 \n",
            " block1_conv2 (Conv2D)       (None, 128, 129, 64)      36928     \n",
            "                                                                 \n",
            " block1_pool (MaxPooling2D)  (None, 64, 64, 64)        0         \n",
            "                                                                 \n",
            " block2_conv1 (Conv2D)       (None, 64, 64, 128)       73856     \n",
            "                                                                 \n",
            " block2_conv2 (Conv2D)       (None, 64, 64, 128)       147584    \n",
            "                                                                 \n",
            " block2_pool (MaxPooling2D)  (None, 32, 32, 128)       0         \n",
            "                                                                 \n",
            " block3_conv1 (Conv2D)       (None, 32, 32, 256)       295168    \n",
            "                                                                 \n",
            " block3_conv2 (Conv2D)       (None, 32, 32, 256)       590080    \n",
            "                                                                 \n",
            " block3_conv3 (Conv2D)       (None, 32, 32, 256)       590080    \n",
            "                                                                 \n",
            " block3_pool (MaxPooling2D)  (None, 16, 16, 256)       0         \n",
            "                                                                 \n",
            " block4_conv1 (Conv2D)       (None, 16, 16, 512)       1180160   \n",
            "                                                                 \n",
            " block4_conv2 (Conv2D)       (None, 16, 16, 512)       2359808   \n",
            "                                                                 \n",
            " block4_conv3 (Conv2D)       (None, 16, 16, 512)       2359808   \n",
            "                                                                 \n",
            " block4_pool (MaxPooling2D)  (None, 8, 8, 512)         0         \n",
            "                                                                 \n",
            " block5_conv1 (Conv2D)       (None, 8, 8, 512)         2359808   \n",
            "                                                                 \n",
            " block5_conv2 (Conv2D)       (None, 8, 8, 512)         2359808   \n",
            "                                                                 \n",
            " block5_conv3 (Conv2D)       (None, 8, 8, 512)         2359808   \n",
            "                                                                 \n",
            " block5_pool (MaxPooling2D)  (None, 4, 4, 512)         0         \n",
            "                                                                 \n",
            " sequential (Sequential)     (None, 10)                2099978   \n",
            "                                                                 \n",
            "=================================================================\n",
            "Total params: 16,814,666\n",
            "Trainable params: 16,702,090\n",
            "Non-trainable params: 112,576\n",
            "_________________________________________________________________\n"
          ]
        }
      ],
      "source": [
        "# Model Definition\n",
        "input_shape = X_train[0].shape\n",
        "num_genres = 10\n",
        "\n",
        "def cnn_vgg16(input_shape, num_genres, freezed_layers):\n",
        "    input_tensor = Input(shape=input_shape)\n",
        "    vgg16 = VGG16(include_top=False, weights='imagenet',\n",
        "                  input_tensor=input_tensor)\n",
        "\n",
        "    top = Sequential()\n",
        "    top.add(Flatten(input_shape=vgg16.output_shape[1:]))\n",
        "    top.add(Dense(256, activation='relu'))\n",
        "    top.add(Dropout(0.5))\n",
        "    top.add(Dense(num_genres, activation='softmax'))\n",
        "\n",
        "    model = Model(inputs=vgg16.input, outputs=top(vgg16.output))\n",
        "    for layer in model.layers[:freezed_layers]:\n",
        "        layer.trainable = False\n",
        "\n",
        "    return model\n",
        "\n",
        "model = cnn_vgg16(input_shape, num_genres, 5)\n",
        "print(\"Creating EarlyStopping Callback ...\")\n",
        "early_stopping_callback = EarlyStopping(monitor='val_accuracy', patience=5)\n",
        "model.summary()"
      ]
    },
    {
      "cell_type": "code",
      "execution_count": null,
      "metadata": {
        "colab": {
          "base_uri": "https://localhost:8080/"
        },
        "id": "tnNrv73gQfbZ",
        "outputId": "88809695-7ebd-49db-d5f1-81a0cab5b49c"
      },
      "outputs": [
        {
          "name": "stdout",
          "output_type": "stream",
          "text": [
            "Epoch 1/50\n",
            "54/54 [==============================] - 72s 976ms/step - loss: 2.3939 - accuracy: 0.2222 - val_loss: 1.7756 - val_accuracy: 0.3659\n",
            "Epoch 2/50\n",
            "54/54 [==============================] - 46s 860ms/step - loss: 1.7512 - accuracy: 0.3777 - val_loss: 1.5644 - val_accuracy: 0.4319\n",
            "Epoch 3/50\n",
            "54/54 [==============================] - 46s 862ms/step - loss: 1.5455 - accuracy: 0.4511 - val_loss: 1.4724 - val_accuracy: 0.4648\n",
            "Epoch 4/50\n",
            "54/54 [==============================] - 46s 863ms/step - loss: 1.3648 - accuracy: 0.5283 - val_loss: 1.1807 - val_accuracy: 0.6087\n",
            "Epoch 5/50\n",
            "54/54 [==============================] - 46s 863ms/step - loss: 1.2133 - accuracy: 0.5903 - val_loss: 1.1467 - val_accuracy: 0.6087\n",
            "Epoch 6/50\n",
            "54/54 [==============================] - 46s 862ms/step - loss: 1.0885 - accuracy: 0.6282 - val_loss: 1.2131 - val_accuracy: 0.5980\n",
            "Epoch 7/50\n",
            "54/54 [==============================] - 46s 862ms/step - loss: 1.0603 - accuracy: 0.6418 - val_loss: 1.0045 - val_accuracy: 0.6711\n",
            "Epoch 8/50\n",
            "54/54 [==============================] - 46s 863ms/step - loss: 0.9323 - accuracy: 0.6872 - val_loss: 0.8419 - val_accuracy: 0.7027\n",
            "Epoch 9/50\n",
            "54/54 [==============================] - 46s 863ms/step - loss: 0.9272 - accuracy: 0.6841 - val_loss: 0.8066 - val_accuracy: 0.7158\n",
            "Epoch 10/50\n",
            "54/54 [==============================] - 46s 862ms/step - loss: 0.7728 - accuracy: 0.7318 - val_loss: 0.8759 - val_accuracy: 0.7103\n",
            "Epoch 11/50\n",
            "54/54 [==============================] - 46s 863ms/step - loss: 0.7760 - accuracy: 0.7309 - val_loss: 0.7700 - val_accuracy: 0.7267\n",
            "Epoch 12/50\n",
            "54/54 [==============================] - 46s 862ms/step - loss: 0.7529 - accuracy: 0.7441 - val_loss: 0.7580 - val_accuracy: 0.7401\n",
            "Epoch 13/50\n",
            "54/54 [==============================] - 46s 862ms/step - loss: 0.6826 - accuracy: 0.7640 - val_loss: 0.7644 - val_accuracy: 0.7480\n",
            "Epoch 14/50\n",
            "54/54 [==============================] - 46s 863ms/step - loss: 0.5767 - accuracy: 0.7987 - val_loss: 0.6436 - val_accuracy: 0.7861\n",
            "Epoch 15/50\n",
            "54/54 [==============================] - 46s 863ms/step - loss: 0.5413 - accuracy: 0.8147 - val_loss: 0.5972 - val_accuracy: 0.7947\n",
            "Epoch 16/50\n",
            "54/54 [==============================] - 46s 862ms/step - loss: 0.5029 - accuracy: 0.8255 - val_loss: 0.8813 - val_accuracy: 0.7034\n",
            "Epoch 17/50\n",
            "54/54 [==============================] - 46s 863ms/step - loss: 0.6301 - accuracy: 0.7925 - val_loss: 0.5277 - val_accuracy: 0.8167\n",
            "Epoch 18/50\n",
            "54/54 [==============================] - 46s 862ms/step - loss: 0.4614 - accuracy: 0.8409 - val_loss: 0.6558 - val_accuracy: 0.8012\n",
            "Epoch 19/50\n",
            "54/54 [==============================] - 46s 863ms/step - loss: 0.4264 - accuracy: 0.8573 - val_loss: 0.5752 - val_accuracy: 0.8153\n",
            "Epoch 20/50\n",
            "54/54 [==============================] - 46s 863ms/step - loss: 0.3769 - accuracy: 0.8717 - val_loss: 0.6457 - val_accuracy: 0.8033\n",
            "Epoch 21/50\n",
            "54/54 [==============================] - 47s 864ms/step - loss: 0.3379 - accuracy: 0.8864 - val_loss: 0.5190 - val_accuracy: 0.8390\n",
            "Epoch 22/50\n",
            "54/54 [==============================] - 47s 864ms/step - loss: 0.2684 - accuracy: 0.9092 - val_loss: 0.4714 - val_accuracy: 0.8599\n",
            "Epoch 23/50\n",
            "54/54 [==============================] - 46s 863ms/step - loss: 0.2931 - accuracy: 0.9026 - val_loss: 0.5183 - val_accuracy: 0.8393\n",
            "Epoch 24/50\n",
            "54/54 [==============================] - 46s 862ms/step - loss: 0.2475 - accuracy: 0.9167 - val_loss: 0.4758 - val_accuracy: 0.8617\n",
            "Epoch 25/50\n",
            "54/54 [==============================] - 46s 863ms/step - loss: 0.1854 - accuracy: 0.9386 - val_loss: 0.4423 - val_accuracy: 0.8699\n",
            "Epoch 26/50\n",
            "54/54 [==============================] - 47s 864ms/step - loss: 0.2956 - accuracy: 0.9082 - val_loss: 0.4912 - val_accuracy: 0.8462\n",
            "Epoch 27/50\n",
            "54/54 [==============================] - 47s 865ms/step - loss: 0.2083 - accuracy: 0.9345 - val_loss: 0.6093 - val_accuracy: 0.8448\n",
            "Epoch 28/50\n",
            "54/54 [==============================] - 47s 866ms/step - loss: 0.2299 - accuracy: 0.9257 - val_loss: 0.4054 - val_accuracy: 0.8853\n",
            "Epoch 29/50\n",
            "54/54 [==============================] - 46s 862ms/step - loss: 0.1394 - accuracy: 0.9538 - val_loss: 0.4897 - val_accuracy: 0.8802\n",
            "Epoch 30/50\n",
            "54/54 [==============================] - 47s 864ms/step - loss: 0.1731 - accuracy: 0.9456 - val_loss: 0.4464 - val_accuracy: 0.8836\n",
            "Epoch 31/50\n",
            "54/54 [==============================] - 46s 861ms/step - loss: 0.1910 - accuracy: 0.9410 - val_loss: 0.3863 - val_accuracy: 0.8950\n",
            "Epoch 32/50\n",
            "54/54 [==============================] - 46s 860ms/step - loss: 0.1283 - accuracy: 0.9589 - val_loss: 0.4558 - val_accuracy: 0.8901\n",
            "Epoch 33/50\n",
            "54/54 [==============================] - 46s 860ms/step - loss: 0.1656 - accuracy: 0.9495 - val_loss: 0.4127 - val_accuracy: 0.8867\n",
            "Epoch 34/50\n",
            "54/54 [==============================] - 46s 860ms/step - loss: 0.1334 - accuracy: 0.9575 - val_loss: 0.6654 - val_accuracy: 0.8493\n",
            "Epoch 35/50\n",
            "54/54 [==============================] - 46s 860ms/step - loss: 0.1322 - accuracy: 0.9579 - val_loss: 0.5032 - val_accuracy: 0.8685\n",
            "Epoch 36/50\n",
            "54/54 [==============================] - 46s 861ms/step - loss: 0.1272 - accuracy: 0.9591 - val_loss: 0.4342 - val_accuracy: 0.8840\n",
            "Learning stoped on epoch: 35\n"
          ]
        }
      ],
      "source": [
        "model.compile(loss=keras.losses.categorical_crossentropy,\n",
        "              optimizer=\"Adam\",\n",
        "              metrics=['accuracy'])\n",
        "\n",
        "hist = model.fit(X_train, y_train,\n",
        "          batch_size=128,\n",
        "          epochs=50,\n",
        "          verbose=1,\n",
        "          validation_data=(X_test, y_test),\n",
        "          shuffle=True,\n",
        "          callbacks=[early_stopping_callback])\n",
        "print(\"Learning stoped on epoch:\", early_stopping_callback.stopped_epoch)"
      ]
    },
    {
      "cell_type": "markdown",
      "metadata": {
        "id": "zvU9I4hoW9WY"
      },
      "source": [
        "#Save the model"
      ]
    },
    {
      "cell_type": "code",
      "execution_count": null,
      "metadata": {
        "colab": {
          "base_uri": "https://localhost:8080/"
        },
        "id": "X7omzUJ3Qfbf",
        "outputId": "d8adb30d-ddb3-4baa-80c9-ce1c9135819c"
      },
      "outputs": [
        {
          "name": "stdout",
          "output_type": "stream",
          "text": [
            "val_loss = 0.434 and val_acc = 0.884\n"
          ]
        }
      ],
      "source": [
        "score = model.evaluate(X_test, y_test, verbose=0)\n",
        "print(\"val_loss = {:.3f} and val_acc = {:.3f}\".format(score[0], score[1]))"
      ]
    },
    {
      "cell_type": "markdown",
      "metadata": {
        "id": "yCtKGzPoXFX6"
      },
      "source": [
        "#Visualisation"
      ]
    },
    {
      "cell_type": "code",
      "execution_count": null,
      "metadata": {
        "colab": {
          "base_uri": "https://localhost:8080/",
          "height": 468
        },
        "id": "SYk8WD-gQfbm",
        "outputId": "94d88477-3d95-4f50-f901-3eb6afb0a0c9"
      },
      "outputs": [
        {
          "data": {
            "image/png": "[encoded data removed]",
            "text/plain": [
              "<Figure size 1080x504 with 2 Axes>"
            ]
          },
          "metadata": {
            "needs_background": "light"
          },
          "output_type": "display_data"
        }
      ],
      "source": [
        "plt.figure(figsize=(15,7))\n",
        "\n",
        "plt.subplot(1,2,1)\n",
        "plt.plot(hist.history['val_accuracy'], label='train')\n",
        "plt.plot(hist.history['val_accuracy'], label='validation')\n",
        "plt.title('Accuracy')\n",
        "plt.xlabel('Epochs')\n",
        "plt.ylabel('Accuracy')\n",
        "plt.legend()\n",
        "\n",
        "plt.subplot(1,2,2)\n",
        "plt.plot(hist.history['loss'], label='train')\n",
        "plt.plot(hist.history['val_loss'], label='validation')\n",
        "plt.title('Loss')\n",
        "plt.xlabel('Epochs')\n",
        "plt.ylabel('Loss')\n",
        "plt.legend()\n",
        "\n",
        "plt.tight_layout()\n",
        "plt.show()"
      ]
    },
    {
      "cell_type": "code",
      "execution_count": null,
      "metadata": {
        "id": "gSK_Vw8OQfbv"
      },
      "outputs": [],
      "source": [
        "#http://scikit-learn.org/stable/auto_examples/model_selection/plot_confusion_matrix.html\n",
        "def plot_confusion_matrix(cm, classes,\n",
        "                          normalize=False,\n",
        "                          title='Confusion matrix',\n",
        "                          cmap=plt.cm.Blues):\n",
        "    \"\"\"\n",
        "    This function prints and plots the confusion matrix.\n",
        "    Normalization can be applied by setting `normalize=True`.\n",
        "    \"\"\"\n",
        "    if normalize:\n",
        "        cm = cm.astype('float') / cm.sum(axis=1)[:, np.newaxis]\n",
        "        print(\"Normalized confusion matrix\")\n",
        "    else:\n",
        "        print('Confusion matrix, without normalization')\n",
        "\n",
        "    plt.imshow(cm, interpolation='nearest', cmap=cmap)\n",
        "    plt.title(title)\n",
        "    plt.colorbar()\n",
        "    tick_marks = np.arange(len(classes))\n",
        "    plt.xticks(tick_marks, classes, rotation=45)\n",
        "    plt.yticks(tick_marks, classes)\n",
        "\n",
        "    fmt = '.2f' if normalize else 'd'\n",
        "    thresh = cm.max() / 2.\n",
        "    for i, j in itertools.product(range(cm.shape[0]), range(cm.shape[1])):\n",
        "        plt.text(j, i, format(cm[i, j], fmt),\n",
        "                 horizontalalignment=\"center\",\n",
        "                 color=\"white\" if cm[i, j] > thresh else \"black\")\n",
        "\n",
        "    plt.tight_layout()\n",
        "    plt.ylabel('True label')\n",
        "    plt.xlabel('Predicted label')"
      ]
    },
    {
      "cell_type": "code",
      "execution_count": null,
      "metadata": {
        "id": "c_sqcp22Qfb0"
      },
      "outputs": [],
      "source": [
        "preds = np.argmax(model.predict(X_test), axis = 1)\n",
        "y_orig = np.argmax(y_test, axis = 1)\n",
        "cm = confusion_matrix(preds, y_orig)"
      ]
    },
    {
      "cell_type": "code",
      "execution_count": null,
      "metadata": {
        "colab": {
          "base_uri": "https://localhost:8080/",
          "height": 602
        },
        "id": "B8j41rYuQfb2",
        "outputId": "9d50c9af-ad2e-4a02-fc29-7fe061379890"
      },
      "outputs": [
        {
          "name": "stdout",
          "output_type": "stream",
          "text": [
            "Normalized confusion matrix\n"
          ]
        },
        {
          "data": {
            "image/png": "[encoded data removed]",
            "text/plain": [
              "<Figure size 576x576 with 2 Axes>"
            ]
          },
          "metadata": {
            "needs_background": "light"
          },
          "output_type": "display_data"
        }
      ],
      "source": [
        "keys = OrderedDict(sorted(genres.items(), key=lambda t: t[1])).keys()\n",
        "\n",
        "plt.figure(figsize=(8,8))\n",
        "plot_confusion_matrix(cm, keys, normalize=True)"
      ]
    },
    {
      "cell_type": "code",
      "execution_count": null,
      "metadata": {
        "id": "eH6nY5VkpAA3"
      },
      "outputs": [],
      "source": []
    }
  ],
  "metadata": {
    "accelerator": "GPU",
    "colab": {
      "collapsed_sections": [],
      "name": "classification_cnn_vgg16.ipynb",
      "provenance": []
    },
    "interpreter": {
      "hash": "1f093c1c0b31530a019f1c79490dfbe94dcd34eea299e2053e67679547b97664"
    },
    "kernelspec": {
      "display_name": "Python 3.10.4 ('music_2')",
      "language": "python",
      "name": "python3"
    },
    "language_info": {
      "codemirror_mode": {
        "name": "ipython",
        "version": 3
      },
      "file_extension": ".py",
      "mimetype": "text/x-python",
      "name": "python",
      "nbconvert_exporter": "python",
      "pygments_lexer": "ipython3",
      "version": "3.10.4"
    }
  },
  "nbformat": 4,
  "nbformat_minor": 0
}
